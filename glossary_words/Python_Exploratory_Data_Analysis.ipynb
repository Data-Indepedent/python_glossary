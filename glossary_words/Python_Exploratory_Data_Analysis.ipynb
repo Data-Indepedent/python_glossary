{
 "cells": [
  {
   "cell_type": "markdown",
   "metadata": {},
   "source": [
    "## Python Exploratory Data Analysis\n",
    "\n",
    "Let's get to know our dataset a bit more. We will perform basic analysis that describe our data. Let's start with: \n",
    "* \\# Rows, # Columns\n",
    "* Column cardinality (how many unique elements are there in each group?)\n",
    "* What are the min/max of each column?\n",
    "* What do outliers (if any) say about the data?"
   ]
  },
  {
   "cell_type": "code",
   "execution_count": 14,
   "metadata": {},
   "outputs": [],
   "source": [
    "import pandas as pd\n",
    "df = pd.read_csv('../data/Street_Tree_List.csv', parse_dates=['PlantDate'])"
   ]
  },
  {
   "cell_type": "markdown",
   "metadata": {},
   "source": [
    "### First, let's look at a few sample rows"
   ]
  },
  {
   "cell_type": "code",
   "execution_count": 2,
   "metadata": {
    "scrolled": false
   },
   "outputs": [
    {
     "data": {
      "text/html": [
       "<div>\n",
       "<style scoped>\n",
       "    .dataframe tbody tr th:only-of-type {\n",
       "        vertical-align: middle;\n",
       "    }\n",
       "\n",
       "    .dataframe tbody tr th {\n",
       "        vertical-align: top;\n",
       "    }\n",
       "\n",
       "    .dataframe thead th {\n",
       "        text-align: right;\n",
       "    }\n",
       "</style>\n",
       "<table border=\"1\" class=\"dataframe\">\n",
       "  <thead>\n",
       "    <tr style=\"text-align: right;\">\n",
       "      <th></th>\n",
       "      <th>TreeID</th>\n",
       "      <th>qLegalStatus</th>\n",
       "      <th>qSpecies</th>\n",
       "      <th>qAddress</th>\n",
       "      <th>SiteOrder</th>\n",
       "      <th>qSiteInfo</th>\n",
       "      <th>PlantType</th>\n",
       "      <th>qCaretaker</th>\n",
       "      <th>qCareAssistant</th>\n",
       "      <th>PlantDate</th>\n",
       "      <th>...</th>\n",
       "      <th>XCoord</th>\n",
       "      <th>YCoord</th>\n",
       "      <th>Latitude</th>\n",
       "      <th>Longitude</th>\n",
       "      <th>Location</th>\n",
       "      <th>Fire Prevention Districts</th>\n",
       "      <th>Police Districts</th>\n",
       "      <th>Supervisor Districts</th>\n",
       "      <th>Zip Codes</th>\n",
       "      <th>Neighborhoods (old)</th>\n",
       "    </tr>\n",
       "  </thead>\n",
       "  <tbody>\n",
       "    <tr>\n",
       "      <th>0</th>\n",
       "      <td>46534</td>\n",
       "      <td>Permitted Site</td>\n",
       "      <td>Tree(s) ::</td>\n",
       "      <td>73 Summer St</td>\n",
       "      <td>7.0</td>\n",
       "      <td>Sidewalk: Curb side : Cutout</td>\n",
       "      <td>Tree</td>\n",
       "      <td>Private</td>\n",
       "      <td>NaN</td>\n",
       "      <td>04/01/2002 12:00:00 AM</td>\n",
       "      <td>...</td>\n",
       "      <td>NaN</td>\n",
       "      <td>NaN</td>\n",
       "      <td>NaN</td>\n",
       "      <td>NaN</td>\n",
       "      <td>NaN</td>\n",
       "      <td>NaN</td>\n",
       "      <td>NaN</td>\n",
       "      <td>NaN</td>\n",
       "      <td>NaN</td>\n",
       "      <td>NaN</td>\n",
       "    </tr>\n",
       "    <tr>\n",
       "      <th>1</th>\n",
       "      <td>121399</td>\n",
       "      <td>DPW Maintained</td>\n",
       "      <td>Corymbia ficifolia :: Red Flowering Gum</td>\n",
       "      <td>349X Cargo Way</td>\n",
       "      <td>1.0</td>\n",
       "      <td>Sidewalk: Curb side : Cutout</td>\n",
       "      <td>Tree</td>\n",
       "      <td>DPW</td>\n",
       "      <td>NaN</td>\n",
       "      <td>NaN</td>\n",
       "      <td>...</td>\n",
       "      <td>NaN</td>\n",
       "      <td>NaN</td>\n",
       "      <td>NaN</td>\n",
       "      <td>NaN</td>\n",
       "      <td>NaN</td>\n",
       "      <td>NaN</td>\n",
       "      <td>NaN</td>\n",
       "      <td>NaN</td>\n",
       "      <td>NaN</td>\n",
       "      <td>NaN</td>\n",
       "    </tr>\n",
       "    <tr>\n",
       "      <th>2</th>\n",
       "      <td>85269</td>\n",
       "      <td>Permitted Site</td>\n",
       "      <td>Arbutus 'Marina' :: Hybrid Strawberry Tree</td>\n",
       "      <td>1000 Edinburgh St</td>\n",
       "      <td>3.0</td>\n",
       "      <td>Sidewalk: Curb side : Cutout</td>\n",
       "      <td>Tree</td>\n",
       "      <td>Private</td>\n",
       "      <td>NaN</td>\n",
       "      <td>07/24/2007 12:00:00 AM</td>\n",
       "      <td>...</td>\n",
       "      <td>NaN</td>\n",
       "      <td>NaN</td>\n",
       "      <td>NaN</td>\n",
       "      <td>NaN</td>\n",
       "      <td>NaN</td>\n",
       "      <td>NaN</td>\n",
       "      <td>NaN</td>\n",
       "      <td>NaN</td>\n",
       "      <td>NaN</td>\n",
       "      <td>NaN</td>\n",
       "    </tr>\n",
       "    <tr>\n",
       "      <th>3</th>\n",
       "      <td>121227</td>\n",
       "      <td>DPW Maintained</td>\n",
       "      <td>Sequoia sempervirens :: Coast Redwood</td>\n",
       "      <td>4299x 17th St</td>\n",
       "      <td>3.0</td>\n",
       "      <td>Front Yard : Yard</td>\n",
       "      <td>Tree</td>\n",
       "      <td>DPW</td>\n",
       "      <td>NaN</td>\n",
       "      <td>NaN</td>\n",
       "      <td>...</td>\n",
       "      <td>NaN</td>\n",
       "      <td>NaN</td>\n",
       "      <td>NaN</td>\n",
       "      <td>NaN</td>\n",
       "      <td>NaN</td>\n",
       "      <td>NaN</td>\n",
       "      <td>NaN</td>\n",
       "      <td>NaN</td>\n",
       "      <td>NaN</td>\n",
       "      <td>NaN</td>\n",
       "    </tr>\n",
       "    <tr>\n",
       "      <th>4</th>\n",
       "      <td>45986</td>\n",
       "      <td>Permitted Site</td>\n",
       "      <td>Tree(s) ::</td>\n",
       "      <td>NaN</td>\n",
       "      <td>226.0</td>\n",
       "      <td>Sidewalk: Curb side : Cutout</td>\n",
       "      <td>Tree</td>\n",
       "      <td>Private</td>\n",
       "      <td>NaN</td>\n",
       "      <td>12/06/2001 12:00:00 AM</td>\n",
       "      <td>...</td>\n",
       "      <td>NaN</td>\n",
       "      <td>NaN</td>\n",
       "      <td>NaN</td>\n",
       "      <td>NaN</td>\n",
       "      <td>NaN</td>\n",
       "      <td>NaN</td>\n",
       "      <td>NaN</td>\n",
       "      <td>NaN</td>\n",
       "      <td>NaN</td>\n",
       "      <td>NaN</td>\n",
       "    </tr>\n",
       "  </tbody>\n",
       "</table>\n",
       "<p>5 rows × 23 columns</p>\n",
       "</div>"
      ],
      "text/plain": [
       "   TreeID    qLegalStatus                                    qSpecies  \\\n",
       "0   46534  Permitted Site                                  Tree(s) ::   \n",
       "1  121399  DPW Maintained     Corymbia ficifolia :: Red Flowering Gum   \n",
       "2   85269  Permitted Site  Arbutus 'Marina' :: Hybrid Strawberry Tree   \n",
       "3  121227  DPW Maintained       Sequoia sempervirens :: Coast Redwood   \n",
       "4   45986  Permitted Site                                  Tree(s) ::   \n",
       "\n",
       "            qAddress  SiteOrder                     qSiteInfo PlantType  \\\n",
       "0       73 Summer St        7.0  Sidewalk: Curb side : Cutout      Tree   \n",
       "1     349X Cargo Way        1.0  Sidewalk: Curb side : Cutout      Tree   \n",
       "2  1000 Edinburgh St        3.0  Sidewalk: Curb side : Cutout      Tree   \n",
       "3      4299x 17th St        3.0             Front Yard : Yard      Tree   \n",
       "4                NaN      226.0  Sidewalk: Curb side : Cutout      Tree   \n",
       "\n",
       "  qCaretaker qCareAssistant               PlantDate  ...  XCoord YCoord  \\\n",
       "0    Private            NaN  04/01/2002 12:00:00 AM  ...     NaN    NaN   \n",
       "1        DPW            NaN                     NaN  ...     NaN    NaN   \n",
       "2    Private            NaN  07/24/2007 12:00:00 AM  ...     NaN    NaN   \n",
       "3        DPW            NaN                     NaN  ...     NaN    NaN   \n",
       "4    Private            NaN  12/06/2001 12:00:00 AM  ...     NaN    NaN   \n",
       "\n",
       "  Latitude  Longitude  Location  Fire Prevention Districts  Police Districts  \\\n",
       "0      NaN        NaN       NaN                        NaN               NaN   \n",
       "1      NaN        NaN       NaN                        NaN               NaN   \n",
       "2      NaN        NaN       NaN                        NaN               NaN   \n",
       "3      NaN        NaN       NaN                        NaN               NaN   \n",
       "4      NaN        NaN       NaN                        NaN               NaN   \n",
       "\n",
       "  Supervisor Districts  Zip Codes  Neighborhoods (old)  \n",
       "0                  NaN        NaN                  NaN  \n",
       "1                  NaN        NaN                  NaN  \n",
       "2                  NaN        NaN                  NaN  \n",
       "3                  NaN        NaN                  NaN  \n",
       "4                  NaN        NaN                  NaN  \n",
       "\n",
       "[5 rows x 23 columns]"
      ]
     },
     "execution_count": 2,
     "metadata": {},
     "output_type": "execute_result"
    }
   ],
   "source": [
    "df.head()"
   ]
  },
  {
   "cell_type": "markdown",
   "metadata": {},
   "source": [
    "### Then lets get the count of rows and columns"
   ]
  },
  {
   "cell_type": "code",
   "execution_count": 3,
   "metadata": {
    "scrolled": false
   },
   "outputs": [
    {
     "name": "stdout",
     "output_type": "stream",
     "text": [
      "<class 'pandas.core.frame.DataFrame'>\n",
      "RangeIndex: 193940 entries, 0 to 193939\n",
      "Data columns (total 23 columns):\n",
      " #   Column                     Non-Null Count   Dtype  \n",
      "---  ------                     --------------   -----  \n",
      " 0   TreeID                     193940 non-null  int64  \n",
      " 1   qLegalStatus               193883 non-null  object \n",
      " 2   qSpecies                   193940 non-null  object \n",
      " 3   qAddress                   192450 non-null  object \n",
      " 4   SiteOrder                  192230 non-null  float64\n",
      " 5   qSiteInfo                  193940 non-null  object \n",
      " 6   PlantType                  193940 non-null  object \n",
      " 7   qCaretaker                 193940 non-null  object \n",
      " 8   qCareAssistant             24478 non-null   object \n",
      " 9   PlantDate                  68911 non-null   object \n",
      " 10  DBH                        151614 non-null  float64\n",
      " 11  PlotSize                   143755 non-null  object \n",
      " 12  PermitNotes                52455 non-null   object \n",
      " 13  XCoord                     191066 non-null  float64\n",
      " 14  YCoord                     191066 non-null  float64\n",
      " 15  Latitude                   191066 non-null  float64\n",
      " 16  Longitude                  191066 non-null  float64\n",
      " 17  Location                   191066 non-null  object \n",
      " 18  Fire Prevention Districts  190815 non-null  float64\n",
      " 19  Police Districts           190865 non-null  float64\n",
      " 20  Supervisor Districts       190929 non-null  float64\n",
      " 21  Zip Codes                  190923 non-null  float64\n",
      " 22  Neighborhoods (old)        190925 non-null  float64\n",
      "dtypes: float64(11), int64(1), object(11)\n",
      "memory usage: 34.0+ MB\n"
     ]
    }
   ],
   "source": [
    "df.info()"
   ]
  },
  {
   "cell_type": "markdown",
   "metadata": {},
   "source": [
    "### Then let's find out how many values sit within each column"
   ]
  },
  {
   "cell_type": "code",
   "execution_count": 6,
   "metadata": {
    "scrolled": true
   },
   "outputs": [
    {
     "data": {
      "text/html": [
       "<div>\n",
       "<style scoped>\n",
       "    .dataframe tbody tr th:only-of-type {\n",
       "        vertical-align: middle;\n",
       "    }\n",
       "\n",
       "    .dataframe tbody tr th {\n",
       "        vertical-align: top;\n",
       "    }\n",
       "\n",
       "    .dataframe thead th {\n",
       "        text-align: right;\n",
       "    }\n",
       "</style>\n",
       "<table border=\"1\" class=\"dataframe\">\n",
       "  <thead>\n",
       "    <tr style=\"text-align: right;\">\n",
       "      <th></th>\n",
       "      <th>TreeID</th>\n",
       "      <th>qLegalStatus</th>\n",
       "      <th>qSpecies</th>\n",
       "      <th>qAddress</th>\n",
       "      <th>SiteOrder</th>\n",
       "      <th>qSiteInfo</th>\n",
       "      <th>PlantType</th>\n",
       "      <th>qCaretaker</th>\n",
       "      <th>qCareAssistant</th>\n",
       "      <th>PlantDate</th>\n",
       "      <th>...</th>\n",
       "      <th>XCoord</th>\n",
       "      <th>YCoord</th>\n",
       "      <th>Latitude</th>\n",
       "      <th>Longitude</th>\n",
       "      <th>Location</th>\n",
       "      <th>Fire Prevention Districts</th>\n",
       "      <th>Police Districts</th>\n",
       "      <th>Supervisor Districts</th>\n",
       "      <th>Zip Codes</th>\n",
       "      <th>Neighborhoods (old)</th>\n",
       "    </tr>\n",
       "  </thead>\n",
       "  <tbody>\n",
       "    <tr>\n",
       "      <th>0</th>\n",
       "      <td>193940</td>\n",
       "      <td>10</td>\n",
       "      <td>571</td>\n",
       "      <td>86242</td>\n",
       "      <td>311</td>\n",
       "      <td>31</td>\n",
       "      <td>3</td>\n",
       "      <td>22</td>\n",
       "      <td>15</td>\n",
       "      <td>8945</td>\n",
       "      <td>...</td>\n",
       "      <td>161069</td>\n",
       "      <td>161510</td>\n",
       "      <td>162948</td>\n",
       "      <td>162881</td>\n",
       "      <td>162959</td>\n",
       "      <td>15</td>\n",
       "      <td>10</td>\n",
       "      <td>11</td>\n",
       "      <td>29</td>\n",
       "      <td>41</td>\n",
       "    </tr>\n",
       "  </tbody>\n",
       "</table>\n",
       "<p>1 rows × 23 columns</p>\n",
       "</div>"
      ],
      "text/plain": [
       "   TreeID  qLegalStatus  qSpecies  qAddress  SiteOrder  qSiteInfo  PlantType  \\\n",
       "0  193940            10       571     86242        311         31          3   \n",
       "\n",
       "   qCaretaker  qCareAssistant  PlantDate  ...  XCoord  YCoord  Latitude  \\\n",
       "0          22              15       8945  ...  161069  161510    162948   \n",
       "\n",
       "   Longitude  Location  Fire Prevention Districts  Police Districts  \\\n",
       "0     162881    162959                         15                10   \n",
       "\n",
       "   Supervisor Districts  Zip Codes  Neighborhoods (old)  \n",
       "0                    11         29                   41  \n",
       "\n",
       "[1 rows x 23 columns]"
      ]
     },
     "execution_count": 6,
     "metadata": {},
     "output_type": "execute_result"
    }
   ],
   "source": [
    "df.apply(lambda x: [x.nunique()])"
   ]
  },
  {
   "cell_type": "markdown",
   "metadata": {},
   "source": [
    "### Then let's look at min and max of a few columns"
   ]
  },
  {
   "cell_type": "code",
   "execution_count": 11,
   "metadata": {
    "scrolled": true
   },
   "outputs": [
    {
     "name": "stdout",
     "output_type": "stream",
     "text": [
      "Min Tree ID: 1\n",
      "Max Tree ID: 262465\n"
     ]
    }
   ],
   "source": [
    "print (\"Min Tree ID: {}\".format(df['TreeID'].min()))\n",
    "print (\"Max Tree ID: {}\".format(df['TreeID'].max()))"
   ]
  },
  {
   "cell_type": "code",
   "execution_count": 15,
   "metadata": {},
   "outputs": [
    {
     "name": "stdout",
     "output_type": "stream",
     "text": [
      "Min Tree Date: 1955-09-19 00:00:00\n",
      "Max Tree Date: 2020-07-30 00:00:00\n"
     ]
    }
   ],
   "source": [
    "print (\"Min Tree Date: {}\".format(df['PlantDate'].min()))\n",
    "print (\"Max Tree Date: {}\".format(df['PlantDate'].max()))"
   ]
  },
  {
   "cell_type": "markdown",
   "metadata": {},
   "source": [
    "### Finally, let's get a brief feel on the outliers of location.\n",
    "\n",
    "I like to start this off with a simple box plot. It'll show me the percentiles + outliers.\n",
    "\n",
    "Without going further, I can already tell I'm going to need to take care of these distracting data points..."
   ]
  },
  {
   "cell_type": "code",
   "execution_count": 17,
   "metadata": {},
   "outputs": [
    {
     "data": {
      "image/png": "[encoded data removed]",
      "text/plain": [
       "<Figure size 432x288 with 1 Axes>"
      ]
     },
     "metadata": {
      "needs_background": "light"
     },
     "output_type": "display_data"
    }
   ],
   "source": [
    "df['Latitude'].plot.box();"
   ]
  },
  {
   "cell_type": "code",
   "execution_count": 18,
   "metadata": {},
   "outputs": [
    {
     "data": {
      "image/png": "[encoded data removed]",
      "text/plain": [
       "<Figure size 432x288 with 1 Axes>"
      ]
     },
     "metadata": {
      "needs_background": "light"
     },
     "output_type": "display_data"
    }
   ],
   "source": [
    "df['Longitude'].plot.box();"
   ]
  }
 ],
 "metadata": {
  "kernelspec": {
   "display_name": "Python 3",
   "language": "python",
   "name": "python3"
  },
  "language_info": {
   "codemirror_mode": {
    "name": "ipython",
    "version": 3
   },
   "file_extension": ".py",
   "mimetype": "text/x-python",
   "name": "python",
   "nbconvert_exporter": "python",
   "pygments_lexer": "ipython3",
   "version": "3.7.6"
  }
 },
 "nbformat": 4,
 "nbformat_minor": 4
}
