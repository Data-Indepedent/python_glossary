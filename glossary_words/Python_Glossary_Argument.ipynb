{
 "cells": [
  {
   "cell_type": "markdown",
   "metadata": {},
   "source": [
    "## Python Argument\n",
    "\n",
    "Let's take a look at the different ways we can use arguments in python.\n",
    "\n",
    "1. Functions that take no arguments\n",
    "2. Functions that take required arguments\n",
    "3. Functions that have default values for arguments\n",
    "4. Functions that can take a variable amount of argument values\n",
    "5. Functions that can take a variable amount of arguments"
   ]
  },
  {
   "cell_type": "markdown",
   "metadata": {},
   "source": [
    "### Functions that take no arguments"
   ]
  },
  {
   "cell_type": "code",
   "execution_count": 1,
   "metadata": {},
   "outputs": [
    {
     "name": "stdout",
     "output_type": "stream",
     "text": [
      "This function has no arguments\n"
     ]
    }
   ],
   "source": [
    "def my_func():\n",
    "    print (\"This function has no arguments\")\n",
    "\n",
    "my_func()\n",
    "\n",
    "# Notice how no information is passed to the function"
   ]
  },
  {
   "cell_type": "markdown",
   "metadata": {},
   "source": [
    "### Functions that take required arguments\n",
    "\n",
    "Functions with arguments that are *required* are those who do not have a default value. This will be required when the user is calling them."
   ]
  },
  {
   "cell_type": "code",
   "execution_count": 2,
   "metadata": {},
   "outputs": [
    {
     "ename": "TypeError",
     "evalue": "my_func_with_required() missing 2 required positional arguments: 'arg1' and 'arg2'",
     "output_type": "error",
     "traceback": [
      "\u001b[0;31m---------------------------------------------------------------------------\u001b[0m",
      "\u001b[0;31mTypeError\u001b[0m                                 Traceback (most recent call last)",
      "\u001b[0;32m<ipython-input-2-ba8c8cedf5b8>\u001b[0m in \u001b[0;36m<module>\u001b[0;34m\u001b[0m\n\u001b[1;32m      2\u001b[0m     \u001b[0mprint\u001b[0m \u001b[0;34m(\u001b[0m\u001b[0marg1\u001b[0m\u001b[0;34m,\u001b[0m \u001b[0marg2\u001b[0m\u001b[0;34m)\u001b[0m\u001b[0;34m\u001b[0m\u001b[0;34m\u001b[0m\u001b[0m\n\u001b[1;32m      3\u001b[0m \u001b[0;34m\u001b[0m\u001b[0m\n\u001b[0;32m----> 4\u001b[0;31m \u001b[0mmy_func_with_required\u001b[0m\u001b[0;34m(\u001b[0m\u001b[0;34m)\u001b[0m\u001b[0;34m\u001b[0m\u001b[0;34m\u001b[0m\u001b[0m\n\u001b[0m",
      "\u001b[0;31mTypeError\u001b[0m: my_func_with_required() missing 2 required positional arguments: 'arg1' and 'arg2'"
     ]
    }
   ],
   "source": [
    "def my_func_with_required(arg1, arg2):\n",
    "    print (arg1, arg2)\n",
    "    \n",
    "my_func_with_required()"
   ]
  },
  {
   "cell_type": "markdown",
   "metadata": {},
   "source": [
    "Notice how I didn't specify arguments that were required, then python threw me an error. Let's try again but defining them this time.\n"
   ]
  },
  {
   "cell_type": "code",
   "execution_count": 3,
   "metadata": {},
   "outputs": [
    {
     "name": "stdout",
     "output_type": "stream",
     "text": [
      "Argument1 Argument2\n"
     ]
    }
   ],
   "source": [
    "my_func_with_required(arg1=\"Argument1\", arg2=\"Argument2\")"
   ]
  },
  {
   "cell_type": "markdown",
   "metadata": {},
   "source": [
    "### Functions that have default values for arguments\n",
    "\n",
    "You can also set default values for arguments. This means that they won't be required to be defined by the user. You do this when you create the function."
   ]
  },
  {
   "cell_type": "code",
   "execution_count": 4,
   "metadata": {},
   "outputs": [
    {
     "name": "stdout",
     "output_type": "stream",
     "text": [
      "I'm setting this value Default Value\n"
     ]
    }
   ],
   "source": [
    "def my_func_w_default(arg1, arg2=\"Default Value\"):\n",
    "    print (arg1, arg2)\n",
    "\n",
    "my_func_w_default(arg1=\"I'm setting this value\")"
   ]
  },
  {
   "cell_type": "markdown",
   "metadata": {},
   "source": [
    "### Functions that can take a variable amount of argument values\n",
    "\n",
    "A fun aspect of python is the ability to set a variable amount of argument values. You may not know how many argument you values will get, so you need a function that can handle the flexibility. This is done via the **\\*args** keyword.\n",
    "\n",
    "Note that the \\* sign is known as the **unpacking operator.**\n",
    "\n",
    "Notice below that we are passing 3 different values"
   ]
  },
  {
   "cell_type": "code",
   "execution_count": 5,
   "metadata": {},
   "outputs": [
    {
     "name": "stdout",
     "output_type": "stream",
     "text": [
      "1\n",
      "2\n",
      "3\n"
     ]
    }
   ],
   "source": [
    "def my_func_w_args(*args):\n",
    "    for x in args:\n",
    "        print (x)\n",
    "        \n",
    "my_func_w_args(1, 2, 3)"
   ]
  },
  {
   "cell_type": "markdown",
   "metadata": {},
   "source": [
    "### Functions that can take a variable amount of arguments\n",
    "\n",
    "You can also do the same thing, but with named arguments"
   ]
  },
  {
   "cell_type": "code",
   "execution_count": 6,
   "metadata": {},
   "outputs": [
    {
     "name": "stdout",
     "output_type": "stream",
     "text": [
      "arg1\n",
      "arg2\n",
      "arg3\n",
      "arg4\n",
      "\n",
      "Bob\n",
      "Fred\n",
      "Katie\n",
      "Sally\n"
     ]
    }
   ],
   "source": [
    "def my_func_w_kwargs(**kwargs):\n",
    "    for x in kwargs:\n",
    "        print (x)\n",
    "    \n",
    "    print ()\n",
    "        \n",
    "    for x in kwargs.values():\n",
    "        print (x)\n",
    "        \n",
    "my_func_w_kwargs(arg1=\"Bob\", arg2=\"Fred\", arg3=\"Katie\", arg4=\"Sally\")"
   ]
  },
  {
   "cell_type": "markdown",
   "metadata": {},
   "source": [
    "Notice how you need to call .values() on your kwargs in this case to extract their values."
   ]
  }
 ],
 "metadata": {
  "kernelspec": {
   "display_name": "Python 3",
   "language": "python",
   "name": "python3"
  },
  "language_info": {
   "codemirror_mode": {
    "name": "ipython",
    "version": 3
   },
   "file_extension": ".py",
   "mimetype": "text/x-python",
   "name": "python",
   "nbconvert_exporter": "python",
   "pygments_lexer": "ipython3",
   "version": "3.7.6"
  }
 },
 "nbformat": 4,
 "nbformat_minor": 4
}
