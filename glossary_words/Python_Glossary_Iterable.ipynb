{
 "cells": [
  {
   "cell_type": "markdown",
   "metadata": {},
   "source": [
    "## Python Iterable\n",
    "\n",
    "An *iterable* is anything that is able to be iterated over. Or another way, an iterable is anyting that can return it's members *one-by-one.*\n",
    "\n",
    "Let's look at a few examples of iterables. We'll start with the most common example of a list"
   ]
  },
  {
   "cell_type": "markdown",
   "metadata": {},
   "source": [
    "In the example below, a list is an iterable because we can run through it one by one via a for loop"
   ]
  },
  {
   "cell_type": "code",
   "execution_count": 3,
   "metadata": {},
   "outputs": [
    {
     "name": "stdout",
     "output_type": "stream",
     "text": [
      "1\n",
      "2\n",
      "3\n",
      "4\n",
      "6\n"
     ]
    }
   ],
   "source": [
    "my_list = [1,2,3,4,6]\n",
    "for i in my_list:\n",
    "    print (i)"
   ]
  },
  {
   "cell_type": "markdown",
   "metadata": {},
   "source": [
    "You can also unpack iterables all at once by referencing multiple variables in order"
   ]
  },
  {
   "cell_type": "code",
   "execution_count": 4,
   "metadata": {},
   "outputs": [
    {
     "name": "stdout",
     "output_type": "stream",
     "text": [
      "1 2 10\n"
     ]
    }
   ],
   "source": [
    "my_list = [1, 2, 10]\n",
    "\n",
    "x, y, z = my_list\n",
    "print(x, y, z)"
   ]
  },
  {
   "cell_type": "markdown",
   "metadata": {},
   "source": [
    "Even within for loops, you can unpack items within lists.\n",
    "Here we are unpacking a list of tuples"
   ]
  },
  {
   "cell_type": "code",
   "execution_count": 5,
   "metadata": {},
   "outputs": [
    {
     "name": "stdout",
     "output_type": "stream",
     "text": [
      "Ashley\n",
      "93\n",
      "\n",
      "Brad\n",
      "95\n",
      "\n",
      "Cassie\n",
      "84\n",
      "\n"
     ]
    }
   ],
   "source": [
    "students = [(\"Bob\", 91), (\"Fred\", 83), (\"Sally\", 99)]\n",
    "for name, grade in grades:\n",
    "    print(name)\n",
    "    print(grade)\n",
    "    print(\"\")"
   ]
  },
  {
   "cell_type": "markdown",
   "metadata": {},
   "source": [
    "Enumeration is handy because you can tell what index item you're on"
   ]
  },
  {
   "cell_type": "code",
   "execution_count": 7,
   "metadata": {},
   "outputs": [
    {
     "name": "stdout",
     "output_type": "stream",
     "text": [
      "0\n",
      "12\n",
      "\n",
      "1\n",
      "2234\n",
      "\n",
      "2\n",
      "343\n",
      "\n",
      "3\n",
      "421\n",
      "\n",
      "4\n",
      "645\n",
      "\n"
     ]
    }
   ],
   "source": [
    "my_list = [12,2234,343,421,645]\n",
    "for i, value in enumerate(my_list):\n",
    "    print (i)\n",
    "    print (value)\n",
    "    print ()"
   ]
  },
  {
   "cell_type": "markdown",
   "metadata": {},
   "source": [
    "You can also iterate through strings"
   ]
  },
  {
   "cell_type": "code",
   "execution_count": 9,
   "metadata": {},
   "outputs": [
    {
     "name": "stdout",
     "output_type": "stream",
     "text": [
      "C\n",
      "o\n",
      "o\n",
      "l\n",
      " \n",
      "S\n",
      "t\n",
      "r\n",
      "i\n",
      "n\n",
      "g\n"
     ]
    }
   ],
   "source": [
    "my_string = \"Cool String\"\n",
    "for letter in my_string:\n",
    "    print (letter)"
   ]
  }
 ],
 "metadata": {
  "kernelspec": {
   "display_name": "Python 3",
   "language": "python",
   "name": "python3"
  },
  "language_info": {
   "codemirror_mode": {
    "name": "ipython",
    "version": 3
   },
   "file_extension": ".py",
   "mimetype": "text/x-python",
   "name": "python",
   "nbconvert_exporter": "python",
   "pygments_lexer": "ipython3",
   "version": "3.7.6"
  }
 },
 "nbformat": 4,
 "nbformat_minor": 4
}
