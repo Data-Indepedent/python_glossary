{
 "cells": [
  {
   "cell_type": "markdown",
   "metadata": {},
   "source": [
    "## Python Conditional\n",
    "\n",
    "[DataIndependent - Conditional](https://dataindependent.com/python/python-glossary/python-conditional)\n",
    "\n",
    "Think of conditionals as forks in the road. If something is True, then you go one way, if something is False, then you go another way.\n",
    "\n",
    "This helps your program run certain pieces of code at some points, and other pieces of code at other points.\n",
    "\n",
    "Let's look at a standard if...else statement. This is known as a conditional statement."
   ]
  },
  {
   "cell_type": "code",
   "execution_count": 1,
   "metadata": {},
   "outputs": [
    {
     "name": "stdout",
     "output_type": "stream",
     "text": [
      "Mow The Lawn\n"
     ]
    }
   ],
   "source": [
    "x = \"Sunny Day\"\n",
    "\n",
    "if x == \"Sunny Day\":\n",
    "    print (\"Mow The Lawn\")\n",
    "else:\n",
    "    print (\"Wait Till Sunny Day\")"
   ]
  },
  {
   "cell_type": "code",
   "execution_count": 3,
   "metadata": {},
   "outputs": [
    {
     "name": "stdout",
     "output_type": "stream",
     "text": [
      "Wait Till Sunny Day\n"
     ]
    }
   ],
   "source": [
    "y = \"Rainy Day\"\n",
    "\n",
    "if y == \"Sunny Day\":\n",
    "    print (\"Mow The Lawn\")\n",
    "else:\n",
    "    print (\"Wait Till Sunny Day\")"
   ]
  },
  {
   "cell_type": "code",
   "execution_count": null,
   "metadata": {},
   "outputs": [],
   "source": []
  }
 ],
 "metadata": {
  "kernelspec": {
   "display_name": "Python 3",
   "language": "python",
   "name": "python3"
  },
  "language_info": {
   "codemirror_mode": {
    "name": "ipython",
    "version": 3
   },
   "file_extension": ".py",
   "mimetype": "text/x-python",
   "name": "python",
   "nbconvert_exporter": "python",
   "pygments_lexer": "ipython3",
   "version": "3.7.6"
  }
 },
 "nbformat": 4,
 "nbformat_minor": 4
}
