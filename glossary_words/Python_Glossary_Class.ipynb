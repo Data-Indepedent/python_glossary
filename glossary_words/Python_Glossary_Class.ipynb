{
 "cells": [
  {
   "cell_type": "markdown",
   "metadata": {},
   "source": [
    "## Python Class\n",
    "\n",
    "[DataIndependent - Class](https://dataindependent.com/python/python-glossary/python-class)\n",
    "\n",
    "Classes are objects that hold together information. Think of them as templates of objects that can have many properties or methods (class functions)\n",
    "\n",
    "Let's look at a before & after of using classes.\n",
    "\n",
    "Say we had 3 students with 3 properties each (name, grade, hometown). If we did this without classes. We would need to create 9 variables (3 students * 3 properties). But with classes, we will make one template, and store the information"
   ]
  },
  {
   "cell_type": "markdown",
   "metadata": {},
   "source": [
    "### Without Classes - The Long Way"
   ]
  },
  {
   "cell_type": "code",
   "execution_count": 1,
   "metadata": {},
   "outputs": [],
   "source": [
    "student_1_name = \"Bob\"\n",
    "student_1_grade = \"Freshman\"\n",
    "student_1_hometown = \"Sunnyvale\"\n",
    "\n",
    "student_2_name = \"Sally\"\n",
    "student_2_grade = \"Junior\"\n",
    "student_2_hometown = \"San Francisco\"\n",
    "\n",
    "student_3_name = \"Katie\"\n",
    "student_3_grade = \"Senior\"\n",
    "student_3_hometown = \"Mountain View\""
   ]
  },
  {
   "cell_type": "markdown",
   "metadata": {},
   "source": [
    "That's a lot of variables to keep track of. But! There is an easier way with classes.\n",
    "\n",
    "First let's create a student class then fill it in with our three students.\n",
    "\n",
    "Notice this time we only have to watch out for 3 students and 3 variables."
   ]
  },
  {
   "cell_type": "code",
   "execution_count": 4,
   "metadata": {},
   "outputs": [],
   "source": [
    "class Student():\n",
    "    def __init__ (self, name, grade, hometown):\n",
    "        self.name = name\n",
    "        self.grade = grade\n",
    "        self.hometown = hometown"
   ]
  },
  {
   "cell_type": "code",
   "execution_count": 6,
   "metadata": {},
   "outputs": [],
   "source": [
    "student1 = Student(\"Bob\", \"Freshman\", \"Sunnyvale\")\n",
    "student2 = Student(\"Sally\", \"Junior\", \"San Francisco\")\n",
    "student3 = Student(\"Katie\", \"Senior\", \"Mountain View\")"
   ]
  },
  {
   "cell_type": "markdown",
   "metadata": {},
   "source": [
    "Then we can call whichever variable or property we want!"
   ]
  },
  {
   "cell_type": "code",
   "execution_count": 7,
   "metadata": {},
   "outputs": [
    {
     "data": {
      "text/plain": [
       "'San Francisco'"
      ]
     },
     "execution_count": 7,
     "metadata": {},
     "output_type": "execute_result"
    }
   ],
   "source": [
    "student2.hometown"
   ]
  },
  {
   "cell_type": "code",
   "execution_count": null,
   "metadata": {},
   "outputs": [],
   "source": []
  }
 ],
 "metadata": {
  "kernelspec": {
   "display_name": "Python 3",
   "language": "python",
   "name": "python3"
  },
  "language_info": {
   "codemirror_mode": {
    "name": "ipython",
    "version": 3
   },
   "file_extension": ".py",
   "mimetype": "text/x-python",
   "name": "python",
   "nbconvert_exporter": "python",
   "pygments_lexer": "ipython3",
   "version": "3.7.6"
  }
 },
 "nbformat": 4,
 "nbformat_minor": 4
}
