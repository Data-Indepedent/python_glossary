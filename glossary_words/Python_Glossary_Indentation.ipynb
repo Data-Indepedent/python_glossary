{
 "cells": [
  {
   "cell_type": "markdown",
   "metadata": {},
   "source": [
    "## Python Indentation\n",
    "\n",
    "In python, the way you'll be formatting your code is mostly through *indentation.* This means putting different lines of code on different indents so that python knows which pieces go together.\n",
    "\n",
    "Let's look at different indents of code. These groups of indents will form [blocks](https://www.dataindependent.com/python/python-glossary/python-code-block/)"
   ]
  },
  {
   "cell_type": "code",
   "execution_count": 1,
   "metadata": {},
   "outputs": [],
   "source": [
    "def my_function(): # This line does not have any indents\n",
    "    print (\"This is my function\") # This line is indented once"
   ]
  },
  {
   "cell_type": "code",
   "execution_count": 4,
   "metadata": {},
   "outputs": [
    {
     "name": "stdout",
     "output_type": "stream",
     "text": [
      "0\n",
      "This is my loop\n",
      "\n",
      "1\n",
      "This is my loop\n",
      "\n",
      "2\n",
      "This is my loop\n",
      "\n",
      "3\n",
      "This is my loop\n",
      "\n",
      "4\n",
      "This is my loop\n",
      "\n",
      "Ended Loop\n"
     ]
    }
   ],
   "source": [
    "for i in range (5):\n",
    "    print (i) # This line is indented once\n",
    "    print (\"This is my loop\") # This line is also indented once\n",
    "    print () # Finally, this line is also indented\n",
    "print (\"Ended Loop\") # This line is back to 0 indents"
   ]
  },
  {
   "cell_type": "markdown",
   "metadata": {},
   "source": [
    "All of the 'print' lines in the for loop above are on the same indent."
   ]
  }
 ],
 "metadata": {
  "kernelspec": {
   "display_name": "Python 3",
   "language": "python",
   "name": "python3"
  },
  "language_info": {
   "codemirror_mode": {
    "name": "ipython",
    "version": 3
   },
   "file_extension": ".py",
   "mimetype": "text/x-python",
   "name": "python",
   "nbconvert_exporter": "python",
   "pygments_lexer": "ipython3",
   "version": "3.7.6"
  }
 },
 "nbformat": 4,
 "nbformat_minor": 4
}
