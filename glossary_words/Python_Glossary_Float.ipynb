{
 "cells": [
  {
   "cell_type": "markdown",
   "metadata": {},
   "source": [
    "## Python Float\n",
    "\n",
    "In Python, there are many different types of data. Think of these as different formats in Excel. The one we're looking at today, is **float**.\n",
    "\n",
    "The easiest way to remember these are numbers with decimal places. Let's take a look at a few"
   ]
  },
  {
   "cell_type": "code",
   "execution_count": 5,
   "metadata": {},
   "outputs": [
    {
     "name": "stdout",
     "output_type": "stream",
     "text": [
      "x is: 5.6\n",
      "x is type: <class 'float'> \n",
      "\n",
      "y is: 7\n",
      "y is type: <class 'int'>\n"
     ]
    }
   ],
   "source": [
    "x = 5.6\n",
    "y = 7\n",
    "\n",
    "print (\"x is: {}\".format(x))\n",
    "print (\"x is type: {} \\n\".format(type(x)))\n",
    "\n",
    "print (\"y is: {}\".format(y))\n",
    "print (\"y is type: {}\".format(type(y)))"
   ]
  },
  {
   "cell_type": "markdown",
   "metadata": {},
   "source": [
    "It's not the fact that x is not a *round* number. It's the fact that it has a decimal place at all."
   ]
  },
  {
   "cell_type": "code",
   "execution_count": 7,
   "metadata": {},
   "outputs": [
    {
     "name": "stdout",
     "output_type": "stream",
     "text": [
      "i is: 5\n",
      "i is type: <class 'int'> \n",
      "\n",
      "f is: 5.0\n",
      "f is type: <class 'float'>\n"
     ]
    }
   ],
   "source": [
    "i = 5\n",
    "f = 5.0\n",
    "\n",
    "print (\"i is: {}\".format(i))\n",
    "print (\"i is type: {} \\n\".format(type(i)))\n",
    "\n",
    "print (\"f is: {}\".format(f))\n",
    "print (\"f is type: {}\".format(type(f)))"
   ]
  }
 ],
 "metadata": {
  "kernelspec": {
   "display_name": "Python 3",
   "language": "python",
   "name": "python3"
  },
  "language_info": {
   "codemirror_mode": {
    "name": "ipython",
    "version": 3
   },
   "file_extension": ".py",
   "mimetype": "text/x-python",
   "name": "python",
   "nbconvert_exporter": "python",
   "pygments_lexer": "ipython3",
   "version": "3.7.6"
  }
 },
 "nbformat": 4,
 "nbformat_minor": 4
}
