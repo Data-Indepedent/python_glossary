{
 "cells": [
  {
   "cell_type": "markdown",
   "metadata": {},
   "source": [
    "## Python Dunder\n",
    "\n",
    "In python, dunders are magic or special functions that aren't really magic or special at all. They help give more functionality to your classes.\n",
    "\n",
    "Let's look at a few examples"
   ]
  },
  {
   "cell_type": "code",
   "execution_count": 59,
   "metadata": {},
   "outputs": [],
   "source": [
    "class Student():\n",
    "    def __init__(self, name):\n",
    "        self.name = name\n",
    "        self.tests = []\n",
    "        \n",
    "    def __repr__(self):\n",
    "        return 'Student ({})'.format(self.name)\n",
    "\n",
    "    def __str__(self):\n",
    "        return 'Student with name of {}'.format(\n",
    "            self.name)\n",
    "    \n",
    "    def __len__(self):\n",
    "        return len(self.tests)\n",
    "        \n",
    "    def __getitem__(self, pos):\n",
    "        return self.tests[pos]\n",
    "        \n",
    "    def __getattr__(self, item):\n",
    "        return \"Attr not found: \" + item.upper()\n",
    "    \n",
    "    def __reversed__(self):\n",
    "        return self[::-1]\n",
    "    \n",
    "    # Regular method to add test scores\n",
    "    def add_test(self, test_score):\n",
    "        self.tests.append(test_score)"
   ]
  },
  {
   "cell_type": "code",
   "execution_count": 60,
   "metadata": {},
   "outputs": [
    {
     "name": "stdout",
     "output_type": "stream",
     "text": [
      "Bob repr string: Student (Bob)\n",
      "Bob pretty string: Student with name of Bob\n",
      "Length: 4\n",
      "__getitem__: 90\n",
      "__reversed__: [96, 90, 80, 50]\n",
      "Test param: Attr not found: TEST_PARAMETER\n"
     ]
    }
   ],
   "source": [
    "bob = Student(\"Bob\")\n",
    "bob.add_test(50)\n",
    "bob.add_test(80)\n",
    "bob.add_test(90)\n",
    "bob.add_test(96)\n",
    "\n",
    "\n",
    "print (\"Bob repr string:\", repr(bob))\n",
    "print(\"Bob pretty string:\", bob)\n",
    "print (\"Length:\", len(bob))\n",
    "print (\"__getitem__:\", bob.__getitem__(2))\n",
    "print (\"__reversed__:\", bob.__reversed__())\n",
    "print (\"Test param:\", bob.test_parameter)"
   ]
  }
 ],
 "metadata": {
  "kernelspec": {
   "display_name": "Python 3",
   "language": "python",
   "name": "python3"
  },
  "language_info": {
   "codemirror_mode": {
    "name": "ipython",
    "version": 3
   },
   "file_extension": ".py",
   "mimetype": "text/x-python",
   "name": "python",
   "nbconvert_exporter": "python",
   "pygments_lexer": "ipython3",
   "version": "3.7.6"
  }
 },
 "nbformat": 4,
 "nbformat_minor": 4
}
