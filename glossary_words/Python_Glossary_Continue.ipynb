{
 "cells": [
  {
   "cell_type": "markdown",
   "metadata": {},
   "source": [
    "## Python Continue\n",
    "\n",
    "In python, continue will 1) skip the rest of your code in your loop and 2) move to the next item in your loop.\n",
    "\n",
    "Let's look at a few examples. Regular loop and nested loops"
   ]
  },
  {
   "cell_type": "markdown",
   "metadata": {},
   "source": [
    "Notice how the code below skips printing '3' because we have a conditional that checks for it then continues"
   ]
  },
  {
   "cell_type": "code",
   "execution_count": 1,
   "metadata": {},
   "outputs": [
    {
     "name": "stdout",
     "output_type": "stream",
     "text": [
      "0\n",
      "1\n",
      "2\n",
      "4\n",
      "5\n"
     ]
    }
   ],
   "source": [
    "for i in range(6):\n",
    "    if i == 3:\n",
    "        continue\n",
    "    print (i)"
   ]
  },
  {
   "cell_type": "markdown",
   "metadata": {},
   "source": [
    "Notice below how the only loop that gets skipped is within the nested (the range() loop).\n",
    "\n",
    "The letter loop still continues on with the item it is currently looping"
   ]
  },
  {
   "cell_type": "code",
   "execution_count": 8,
   "metadata": {},
   "outputs": [
    {
     "name": "stdout",
     "output_type": "stream",
     "text": [
      "a 0\n",
      "a 1\n",
      "a 3\n",
      "b 0\n",
      "b 1\n",
      "b 3\n",
      "c 0\n",
      "c 1\n",
      "c 3\n"
     ]
    }
   ],
   "source": [
    "for letter in ['a', 'b', 'c']:\n",
    "    for num in range(4):\n",
    "        \n",
    "        if num == 2:\n",
    "            continue\n",
    "        \n",
    "        print (letter, num)"
   ]
  }
 ],
 "metadata": {
  "kernelspec": {
   "display_name": "Python 3",
   "language": "python",
   "name": "python3"
  },
  "language_info": {
   "codemirror_mode": {
    "name": "ipython",
    "version": 3
   },
   "file_extension": ".py",
   "mimetype": "text/x-python",
   "name": "python",
   "nbconvert_exporter": "python",
   "pygments_lexer": "ipython3",
   "version": "3.7.6"
  }
 },
 "nbformat": 4,
 "nbformat_minor": 4
}
